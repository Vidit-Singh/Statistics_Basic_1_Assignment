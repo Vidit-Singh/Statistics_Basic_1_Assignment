{
 "cells": [
  {
   "cell_type": "markdown",
   "id": "8d3dbc2c-c2bd-45f1-9048-844fa0bd5fef",
   "metadata": {},
   "source": [
    "# Q1. What is Statistics?"
   ]
  },
  {
   "cell_type": "markdown",
   "id": "2d6ca805-631b-416f-9bbb-f2fb246d5b68",
   "metadata": {},
   "source": [
    "- It is the science of collecting, organizing and analyzing data.\n",
    "- It is used to make sense of data by turning raw information into meaningful insights, which can help in decision-making across various fields such as science, business, economics, healthcare, and social sciences.\n",
    "  "
   ]
  },
  {
   "cell_type": "code",
   "execution_count": null,
   "id": "23831466-16e5-4735-a4e2-b5b45332642f",
   "metadata": {},
   "outputs": [],
   "source": []
  },
  {
   "cell_type": "markdown",
   "id": "627ef745-8965-4574-ac04-bad3f59eef59",
   "metadata": {},
   "source": [
    "# Q2. Define the different types of statistics and give an example of when each type might be used."
   ]
  },
  {
   "cell_type": "markdown",
   "id": "39bc1c6d-011a-4a39-9331-f84b9cf27416",
   "metadata": {},
   "source": [
    "Statistics is broadly categorized into two types: Descriptive Statistics and Inferential Statistics. Each type has a different purpose in data analysis and is applied in various scenarios.\n",
    "\n",
    "1. Descriptive Statistics\n",
    "- Descriptive statistics involves summarizing and organizing data so it can be easily understood. It provides simple summaries about the sample and the measures.\n",
    "- hese statistics are purely about describing what the data shows without making predictions or inferences.\n",
    "\n",
    "- Examples of Descriptive Statistics:\n",
    "Measures of Central Tendency: Mean, Median, Mode.\n",
    "Measures of Variability: Range, Variance, Standard Deviation.\n",
    "Data Visualization: Graphs like histograms, bar charts, pie charts.\n",
    "\n",
    "- Example Use Case:\n",
    "If you conducted a survey of 100 students' exam scores, you might use descriptive statistics to calculate the average score (mean), highest score (max), lowest score (min), and create a bar chart showing the frequency distribution of scores.\n",
    "\n",
    "\n",
    "2. Inferential Statistics\n",
    "- Inferential statistics involves using a sample to make inferences or generalizations about a population. It helps in drawing conclusions and making predictions based on data analysis.\n",
    "\n",
    "- Examples of Inferential Statistics:\n",
    "Hypothesis Testing: t-test, chi-square test, ANOVA.\n",
    "Confidence Intervals: Estimate population parameters within a range.\n",
    "Regression Analysis: Identifying the relationship between variables.\n",
    "\n",
    "- Example Use Case:\n",
    "Suppose you want to predict the average height of all adults in a country, but it's impractical to measure everyone's height. Instead, you take a random sample of 500 adults and use inferential statistics (e.g., calculating a confidence interval) to estimate the average height for the entire population."
   ]
  },
  {
   "cell_type": "code",
   "execution_count": null,
   "id": "8c3a23a4-7cca-473e-ad47-ff3f3b685fd4",
   "metadata": {},
   "outputs": [],
   "source": []
  },
  {
   "cell_type": "markdown",
   "id": "837501a9-7d7f-4c75-b3d8-09b869309552",
   "metadata": {},
   "source": [
    "# Q3.What are the different types of data and how do they differ from each other? Provide an example of each type of data.."
   ]
  },
  {
   "cell_type": "markdown",
   "id": "d9f4156d-9727-4c61-b03a-1a2ae57db6b8",
   "metadata": {},
   "source": [
    "- Data is generally classified into two main types: Quantitative and Qualitative data. Each of these types has further subcategories.\n",
    "\n",
    "1. Quantitative Data:\n",
    "   - Quantitative data refers to data that can be measured and expressed in numerical terms. It represents quantities and is typically used for performing mathematical operations. This type of data can be further classified into Discrete and Continuous data.\n",
    "\n",
    "a) Discrete Data\n",
    "- Discrete data consists of distinct, separate values. It represents countable quantities where only specific, distinct numbers are possible. Discrete data cannot take on every possible value within a range.\n",
    "\n",
    "Example:\n",
    "- Number of students in a classroom (e.g., 20, 25, 30).\n",
    "-Number of cars in a parking lot (e.g., 5, 10, 15).\n",
    "\n",
    "b) Continuous Data\n",
    "Continuous data can take on any value within a given range. It represents measurable quantities and can include any number, including decimals and fractions. Continuous data is often obtained by measuring something.\n",
    "\n",
    "Example:\n",
    "- Height of students (e.g., 160.5 cm, 170.8 cm).\n",
    "- Time taken to run a race (e.g., 12.34 seconds, 14.56 seconds).\n",
    "\n",
    "2. Qualitative Data\n",
    "   - Qualitative data, also known as categorical data, represents characteristics or qualities. This type of data describes attributes or properties that are non-numerical. It can be further divided into Nominal and Ordinal data.\n",
    "\n",
    "a) Nominal Data\n",
    "- Nominal data refers to categories or labels without any specific order or ranking. It is the simplest form of qualitative data, where the data values represent different categories, but these categories cannot be ordered or ranked.\n",
    "\n",
    "Example:\n",
    "- Eye color (e.g., Blue, Green, Brown).\n",
    "- Types of cuisine (e.g., Italian, Chinese, Indian).\n",
    "\n",
    "b) Ordinal Data\n",
    "- Ordinal data represents categories that can be ordered or ranked, but the differences between consecutive categories are not necessarily equal. It is still categorical, but there is a meaningful sequence or hierarchy.\n",
    "- No measurable difference between ranks.\n",
    "\n",
    "Example:\n",
    "- Customer satisfaction ratings (e.g., Very Unsatisfied, Unsatisfied, Neutral, Satisfied, Very Satisfied).\n",
    "- Education level (e.g., High School, Bachelor’s Degree, Master’s Degree, PhD).\n"
   ]
  },
  {
   "cell_type": "code",
   "execution_count": null,
   "id": "5f733969-9d42-4a50-98e9-d8339001cc34",
   "metadata": {},
   "outputs": [],
   "source": []
  },
  {
   "cell_type": "markdown",
   "id": "25f32ee1-e9c4-421b-b06a-b9089078ca74",
   "metadata": {},
   "source": [
    "# Q4. Categorise the following datasets with respect to quantitative and qualitative data types:\r",
    "- \n",
    "(i) Grading in exam: A+, A, B+, B, C+, C, D, E- \r\n",
    "(ii) Colour of mangoes: yellow, green, orange, re-  d\r\n",
    "(iii) Height data of a class: [178.9, 179, 179.5, 176, 177.2, 178.3, 175.8,..-  .]\r\n",
    "(iv) Number of mangoes exported by a farm: [500, 600, 478, 672, ...]"
   ]
  },
  {
   "cell_type": "markdown",
   "id": "efc04f87-32c7-47d5-bcee-bf099e14df0e",
   "metadata": {},
   "source": [
    "1) Grading in exam: A+, A, B+, B, C+, C, D, E\n",
    "   - Ordinal data\n",
    "2) Colour of mangoes: yellow, green, orange, red\n",
    "   - Nominal data\n",
    "3) Height data of a class: [178.9, 179, 179.5, 176, 177.2, 178.3, 175.8,..- .]\n",
    "   - Continuous data\n",
    "4) Number of mangoes exported by a farm: [500, 600, 478, 672, ...]\n",
    "   - Discrete data"
   ]
  },
  {
   "cell_type": "code",
   "execution_count": null,
   "id": "4f6ad2ec-b301-4fab-8336-d57f93f9d80e",
   "metadata": {},
   "outputs": [],
   "source": []
  },
  {
   "cell_type": "markdown",
   "id": "3918d91a-4986-430b-b5fa-d218edb71b7a",
   "metadata": {},
   "source": [
    "# Q5. Explain the concept of levels of measurement and give an example of a variable for each level."
   ]
  },
  {
   "cell_type": "markdown",
   "id": "5705f971-fca6-4db5-ae13-b45fc3610c65",
   "metadata": {},
   "source": [
    "- Levels of measurement refer to the ways in which variables are quantified or categorized. Understanding these levels is crucial because they determine what types of statistical analysis can be performed on the data. There are four levels of measurement: Nominal, Ordinal, Interval, and Ratio.\n",
    "\n",
    "1. Nominal Level\n",
    "- The nominal level of measurement classifies data into distinct categories that do not have a meaningful order or ranking. This level is purely categorical and used for labeling or naming.\n",
    "\n",
    "Characteristics:\n",
    "- Categories are mutually exclusive.\n",
    "- No inherent order or ranking between categories.\n",
    "\n",
    "Example:\n",
    "- Variable: Eye color.\n",
    "- Categories: Blue, Green, Brown, Hazel.\n",
    "- Explanation: Each eye color is just a label with no inherent order between them.\n",
    "\n",
    "2. Ordinal Level\n",
    "- The ordinal level of measurement organizes data into ordered categories where the order matters, but the differences between categories are not uniform or measurable.\n",
    "\n",
    "Characteristics:\n",
    "- Can be ranked or ordered.\n",
    "- Differences between categories are not meaningful or consistent.\n",
    "\n",
    "Example:\n",
    "- Variable: Customer satisfaction rating.\n",
    "- Categories: Very Unsatisfied, Unsatisfied, Neutral, Satisfied, Very Satisfied.\n",
    "- Explanation: The ratings can be ranked from least to most satisfied, but the gap between \"Satisfied\" and \"Very Satisfied\" isn't necessarily the same as between \"Unsatisfied\" and \"Neutral.\"\n",
    "\n",
    "3. Interval Level\n",
    "- The interval level of measurement involves ordered data with equal and meaningful intervals between values, but there is no true zero point, meaning zero does not indicate the absence of the quantity being measured.\n",
    "\n",
    "Characteristics:\n",
    "- Equal intervals between values.\n",
    "- No true zero point.\n",
    "\n",
    "Example:\n",
    "- Variable: Temperature in Celsius or Fahrenheit.\n",
    "- Values: 10°C, 20°C, 30°C.\n",
    "- Explanation: The difference between 10°C and 20°C is the same as between 20°C and 30°C, but 0°C does not represent \"no temperature.\"\n",
    "\n",
    "4. Ratio Level\n",
    "- The ratio level of measurement is the highest level of measurement. It has all the characteristics of the interval level, but it includes a meaningful, absolute zero point, which allows for meaningful ratios between values.\n",
    "\n",
    "Characteristics:\n",
    "- Equal intervals between values.\n",
    "- Has a true zero point (indicating none of the quantity).\n",
    "Example:\n",
    "- Variable: Weight.\n",
    "- Values: 50 kg, 100 kg, 150 kg.\n",
    "- Explanation: 100 kg is twice as heavy as 50 kg, and 0 kg indicates the absence of weight."
   ]
  },
  {
   "cell_type": "code",
   "execution_count": null,
   "id": "191995c8-3b75-4d1c-8ce6-04e1584f65ec",
   "metadata": {},
   "outputs": [],
   "source": []
  },
  {
   "cell_type": "markdown",
   "id": "038ca973-f434-4d8f-8c38-4ca1f04c708b",
   "metadata": {},
   "source": [
    "# Q6. Why is it important to understand the level of measurement when analyzing data? Provide an example to illustrate your answer.."
   ]
  },
  {
   "cell_type": "markdown",
   "id": "54449a57-7514-49ca-9d85-289acec1ae57",
   "metadata": {},
   "source": [
    "- Understanding the level of measurement is crucial in data analysis because it determines which statistical methods and operations can be applied to the data. Different levels of measurement require different analytical techniques, and using inappropriate methods can lead to incorrect interpretations or conclusions. Each level of measurement has its own set of permissible operations and analysis, ranging from simple counting to more complex mathematical operations.\n",
    "\n",
    "Here’s why it's important:\n",
    "\n",
    "- Determines the Type of Analysis: The level of measurement defines which statistical techniques can be used. For example, calculating a mean (average) is appropriate for interval and ratio data, but not for nominal or ordinal data.\n",
    "\n",
    "- Prevents Misinterpretation: Applying inappropriate analysis methods, such as calculating the mean of nominal data, can lead to incorrect or meaningless results. Each level of measurement carries its own assumptions and properties that should be respected.\n",
    "\n",
    "- Influences Data Presentation: The level of measurement also determines how data should be presented visually. For example, bar charts are often used for nominal data, while histograms are better suited for continuous quantitative data.\n",
    "\n",
    "- Guides Hypothesis Testing: Certain statistical tests require specific data types. For instance, the chi-square test is used for nominal data, while t-tests or ANOVA are used for ratio or interval data.\n",
    "\n",
    "Example: Misinterpreting the Mean of Ordinal Data\n",
    "Let’s take an example of customer satisfaction ratings on a scale from 1 to 5:\n",
    "\n",
    "1 = Very Unsatisfied\n",
    "2 = Unsatisfied\n",
    "3 = Neutral\n",
    "4 = Satisfied\n",
    "5 = Very Satisfied\n",
    "If we mistakenly treat these ordinal data as interval data, we might calculate a mean satisfaction score. Suppose the average satisfaction rating turns out to be 3.4.\n",
    "\n",
    "Problem: In ordinal data, the differences between consecutive values (e.g., between \"Satisfied\" and \"Very Satisfied\") are not necessarily equal. Therefore, calculating a mean for such data doesn’t hold much meaning because the numbers (1, 2, 3, etc.) are simply ranks and don’t represent consistent intervals.\n",
    "\n",
    "Solution: Instead of calculating a mean, it's more appropriate to summarize the data by reporting the mode or the median in ordinal data. You can also use a frequency distribution or percentages to represent how many customers fall into each satisfaction category."
   ]
  },
  {
   "cell_type": "code",
   "execution_count": null,
   "id": "406702fa-4eb2-4022-a4c1-2b3e84546cbb",
   "metadata": {},
   "outputs": [],
   "source": []
  },
  {
   "cell_type": "markdown",
   "id": "ba363178-8df9-4e12-b1d3-29000606784c",
   "metadata": {},
   "source": [
    "# Q7. How nominal data type is different from ordinal data type."
   ]
  },
  {
   "cell_type": "markdown",
   "id": "9f86baf2-f1cb-49b2-8560-84843d1483a1",
   "metadata": {},
   "source": [
    "- Nominal and Ordinal data types are both used to categorize data, but they differ in how the categories are structured and the information they convey. Let’s break down the differences:\n",
    "\n",
    "1. Definition:\n",
    "Nominal Data:\n",
    "Definition: Nominal data is a type of qualitative (categorical) data that consists of names, labels, or categories. There is no inherent order or ranking between the categories.\n",
    "Purpose: It is used to label or classify things without implying any hierarchy or sequence.\n",
    "\n",
    "Ordinal Data:\n",
    "Definition: Ordinal data is a type of qualitative (categorical) data where the categories have a meaningful order or ranking, but the differences between the categories are not consistent or measurable.\n",
    "Purpose: It is used when the data needs to be ranked or ordered, but the distances between ranks are unknown or unequal.\n",
    "\n",
    "2. Order:\n",
    "Nominal Data:\n",
    "There is no order between the categories. The categories are simply different from each other.\n",
    "Example: Blood types (A, B, AB, O), eye color (blue, green, brown).\n",
    "\n",
    "Ordinal Data:\n",
    "There is an order or ranking between the categories, but the intervals between them are not necessarily equal.\n",
    "Example: Educational levels (High School, Bachelor’s, Master’s, PhD), customer satisfaction ratings (Unsatisfied, Neutral, Satisfied, Very Satisfied).\n",
    "\n",
    "3. Quantitative Value:\n",
    "\n",
    "Nominal Data:\n",
    "No quantitative value is associated with the categories. You cannot perform mathematical operations like addition or subtraction on nominal data.\n",
    "Example: Gender (Male, Female, Non-binary) — the labels are just names with no numerical meaning.\n",
    "\n",
    "Ordinal Data:\n",
    "Categories have an order, but you cannot measure the exact difference between them. The rankings are meaningful, but they don't imply equal intervals.\n",
    "Example: Pain scale (No pain, Mild pain, Moderate pain, Severe pain) — while there is a clear order, we don't know how much more painful \"Moderate\" is compared to \"Mild.\"\n",
    "\n",
    "6. Examples:\n",
    "Nominal Data Examples:\n",
    "Eye color: Blue, Green, Brown.\n",
    "Types of fruit: Apple, Banana, Orange.\n",
    "Car brands: Toyota, Honda, Ford.\n",
    "\n",
    "Ordinal Data Examples:\n",
    "Education level: High School, Bachelor’s, Master’s, PhD.\n",
    "Military ranks: Private, Corporal, Sergeant, Lieutenant.\n",
    "Likert scale in surveys: Strongly Disagree, Disagree, Neutral, Agree, Strongly Agree.\n"
   ]
  },
  {
   "cell_type": "code",
   "execution_count": null,
   "id": "b873aadd-c860-4a2e-9185-48af2c08dd84",
   "metadata": {},
   "outputs": [],
   "source": []
  },
  {
   "cell_type": "markdown",
   "id": "66abf6ef-7774-4c23-ba0a-38a40371186e",
   "metadata": {},
   "source": [
    "# Q8. Which type of plot can be used to display data in terms of range?"
   ]
  },
  {
   "cell_type": "markdown",
   "id": "3f795e7b-3afb-4a61-8d2c-fb432daab2ab",
   "metadata": {},
   "source": [
    "- To display data in terms of range, a box plot (also known as a box-and-whisker plot) is an effective choice. It visually summarizes the distribution of a dataset by showing its minimum, maximum, quartiles, and median, allowing you to easily see the range and spread of the data.\n",
    "\n",
    "Key Features of a Box Plot:\n",
    "\n",
    "- Minimum: The smallest value in the dataset (excluding outliers).\n",
    "First Quartile (Q1): The 25th percentile, or the value below which 25% of the data lies.\n",
    "- Median (Q2): The middle value of the dataset, or the 50th percentile.\n",
    "- Third Quartile (Q3): The 75th percentile, or the value below which 75% of the data lies.\n",
    "- Maximum: The largest value in the dataset (excluding outliers).\n",
    "- Whiskers: Lines extending from the quartiles to the minimum and maximum values.\n",
    "- Outliers: Points that fall outside 1.5 times the interquartile range (IQR) from the quartiles are often displayed as individual points.\n",
    "- Example Use:\n",
    "A box plot can be used to display the range of test scores in a classroom. You can easily see the minimum score, maximum score, the median score, and how the scores are distributed across the quartiles."
   ]
  },
  {
   "cell_type": "code",
   "execution_count": null,
   "id": "63ec485a-82da-49b5-b11c-45a55f3d15df",
   "metadata": {},
   "outputs": [],
   "source": []
  },
  {
   "cell_type": "markdown",
   "id": "5b0b1eb8-598c-46e0-bf07-14442e65ea5a",
   "metadata": {},
   "source": [
    "# Q9. Describe the difference between descriptive and inferential statistics. Give an example of each  type of statistics and explain how they are used.\n"
   ]
  },
  {
   "cell_type": "markdown",
   "id": "e5316af9-0d33-4769-9e64-67f9b4ccc0c6",
   "metadata": {},
   "source": [
    "- Here's a breakdown of the differences:\n",
    "1) Definition:\n",
    "- Descriptive statistics is the branch of statistics that deals with summarizing and organizing data. It focuses on describing the main features of a dataset, often through numerical measures, charts, and graphs.\n",
    "- Descriptive statistics provide a snapshot of the data without making any generalizations or predictions beyond the data at hand.\n",
    "\n",
    "- Inferential statistics is the branch of statistics that makes predictions or inferences about a population based on a sample of data. It involves making generalizations beyond the dataset by estimating population parameters and testing hypotheses.\n",
    "- It uses probability theory to estimate the likelihood that conclusions drawn from the sample are valid for the entire population.\n",
    "\n",
    "2) Purpose:\n",
    "Descriptive Statistics:\n",
    "- To summarize or describe a set of data in a meaningful way, providing an overview of its distribution, central tendency, variability, and shape.\n",
    "\n",
    "Inferential Statistics:\n",
    "- To make predictions or inferences about a larger population based on the analysis of a sample.\n",
    "- Inferential statistics help assess how likely it is that patterns observed in the sample data exist in the broader population.\n",
    "\n",
    "3) Common Descriptive Measures:\n",
    "Descriptive Statistics:\n",
    "Measures of Central Tendency: Mean, median, mode.\n",
    "Measures of Dispersion: Range, variance, standard deviation, interquartile range (IQR).\n",
    "Frequency Distribution: Histograms, pie charts, bar charts, and frequency tables.\n",
    "\n",
    "Inferential Statistics:\n",
    "Hypothesis Testing: t-tests, ANOVA, chi-square tests, etc.\n",
    "Confidence Intervals: Estimating a range within which a population parameter lies.\n",
    "Regression Analysis: Predicting relationships between variables.\n",
    "Sampling Techniques: Random sampling, stratified sampling, etc.\n",
    "\n",
    "4) Example of Descriptive Statistics:\n",
    "\n",
    "- A teacher calculates the average score of a class on a math test. The average (mean) score is a descriptive statistic that tells you about the general performance of the students.\n",
    "- Usage: Descriptive statistics would show the average score (mean), the most common score (mode), and how spread out the scores are (standard deviation) but wouldn’t draw conclusions about how students in other classes might perform.\n",
    "\n",
    "5) Example of Inferential Statistics:\n",
    "\n",
    "- A political scientist takes a random sample of 1,000 voters from a population of 100,000 voters to estimate the overall percentage of people who support a specific candidate. Based on this sample, the scientist predicts the outcome of the election using inferential statistics.\n",
    "- Usage: Inferential statistics would use the sample data to estimate the proportion of all voters who would vote for the candidate, including calculating a confidence interval to express the margin of error in the estimate.\n"
   ]
  },
  {
   "cell_type": "code",
   "execution_count": null,
   "id": "c3a8b97f-9e1f-47e5-b609-6ee235adc40f",
   "metadata": {},
   "outputs": [],
   "source": []
  },
  {
   "cell_type": "markdown",
   "id": "e068b905-dca0-4d30-bef8-e700a22158f9",
   "metadata": {},
   "source": [
    "# Q10. What are some common measures of central tendency and variability used in statistics? Explain  how each measure can be used to describe a dataset."
   ]
  },
  {
   "cell_type": "markdown",
   "id": "ea225fb8-585b-4dd4-9d63-534055cc1f7d",
   "metadata": {},
   "source": [
    "- Measures of central tendency and variability are essential statistical concepts used to summarize and describe the characteristics of a dataset. Here’s an overview of some common measures in each category, along with explanations of how they can be used:\n",
    "\n",
    "Measures of Central Tendency:\n",
    "\n",
    "1) Mean:\n",
    "- Definition:\n",
    "The mean, or average, is calculated by summing all the values in a dataset and dividing by the number of values.\n",
    "\n",
    "- Usage:\n",
    "The mean provides a measure of the central value of the data. For example, if you have the test scores of a class, the mean score can help understand the overall performance of the students.\n",
    "However, the mean can be sensitive to outliers. For example, if one student scored exceptionally low or high, it could skew the mean significantly.\n",
    "\n",
    "2) Median:\n",
    "- Definition:\n",
    "The median is the middle value of a dataset when it is ordered from least to greatest. If there is an even number of observations, the median is the average of the two middle values.\n",
    "- Usage:\n",
    "The median is useful for understanding the central point of a dataset, especially when the data is skewed or has outliers. For example, in a dataset of household incomes, the median income can provide a better sense of what a typical household earns than the mean, which might be affected by a few very high incomes.\n",
    "\n",
    "3) Mode:\n",
    "- Definition:\n",
    "The mode is the value that appears most frequently in a dataset.\n",
    "- Usage:\n",
    "The mode can be used to identify the most common category or value in categorical data. For instance, in a survey asking for favorite ice cream flavors, the mode would indicate the most popular flavor among respondents. The mode can also be helpful in multimodal distributions, where more than one value occurs with the highest frequency.\n",
    "\n",
    "Measures of Variability\n",
    "\n",
    "1) Range:\n",
    "- Definition:\n",
    "The range is the difference between the highest and lowest values in a dataset.\n",
    "- Usage:\n",
    "The range provides a simple measure of the spread of the data. For example, in test scores ranging from 50 to 100, the range is 50, indicating a moderate spread of scores. However, the range does not provide information about how the data is distributed between the minimum and maximum values.\n",
    "\n",
    "2) Variance:\n",
    "- Definition:\n",
    "Variance measures how far each number in the dataset is from the mean and, consequently, from every other number. It is the average of the squared differences from the mean.\n",
    "\n",
    "- Usage:\n",
    "Variance provides insight into the data's overall variability. A low variance indicates that data points tend to be close to the mean, while a high variance indicates that data points are spread out over a wider range of values. For example, if two classes have the same mean test score but different variances, the class with the higher variance has more variability in student performance.\n",
    "\n",
    "3) Standard Deviation:\n",
    "- Definition:\n",
    "The standard deviation is the square root of the variance and provides a measure of the average distance of each data point from the mean.\n",
    "- Usage:\n",
    "Standard deviation is more interpretable than variance because it is in the same units as the data. It provides an understanding of how spread out the data is relative to the mean. For instance, if the mean score of a test is 70 with a standard deviation of 10, most scores will fall within the range of 60 to 80, indicating consistency in performance among students."
   ]
  },
  {
   "cell_type": "code",
   "execution_count": null,
   "id": "4dfbb804-593e-4cad-80bf-2d8fbb24369f",
   "metadata": {},
   "outputs": [],
   "source": []
  }
 ],
 "metadata": {
  "kernelspec": {
   "display_name": "Python 3 (ipykernel)",
   "language": "python",
   "name": "python3"
  },
  "language_info": {
   "codemirror_mode": {
    "name": "ipython",
    "version": 3
   },
   "file_extension": ".py",
   "mimetype": "text/x-python",
   "name": "python",
   "nbconvert_exporter": "python",
   "pygments_lexer": "ipython3",
   "version": "3.12.4"
  }
 },
 "nbformat": 4,
 "nbformat_minor": 5
}
